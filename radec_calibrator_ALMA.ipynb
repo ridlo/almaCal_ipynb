{
 "cells": [
  {
   "cell_type": "markdown",
   "metadata": {},
   "source": [
    "## Plot position of the calibrator"
   ]
  },
  {
   "cell_type": "code",
   "execution_count": null,
   "metadata": {
    "collapsed": false,
    "scrolled": true
   },
   "outputs": [],
   "source": [
    "import numpy as np\n",
    "import matplotlib.pyplot as plt"
   ]
  },
  {
   "cell_type": "code",
   "execution_count": null,
   "metadata": {
    "collapsed": true
   },
   "outputs": [],
   "source": [
    "def read_calibrator_list(ifile, fluxmin = 0.2): # copy from readCal\n",
    "    \n",
    "    listcal = []\n",
    "    \n",
    "    with open(ifile, 'r') as data:\n",
    "        for line in data:\n",
    "            if line[0] != \"#\":\n",
    "                iline = line.split(\",\")\n",
    "                name = iline[13].split(\"|\")[0]\n",
    "                alpha2000 = float(iline[3])\n",
    "                delta2000 = float(iline[5])\n",
    "                flux = float(iline[7])\n",
    "\n",
    "                if flux >= fluxmin:\n",
    "                    found = False\n",
    "                    for nameYet in listcal:\n",
    "                        if nameYet[0] == name:\n",
    "                            found = True\n",
    "\n",
    "                    if not found:\n",
    "                        listcal.append([alpha2000, delta2000, flux])\n",
    "\n",
    "    return(listcal)"
   ]
  },
  {
   "cell_type": "markdown",
   "metadata": {},
   "source": [
    "Read the data"
   ]
  },
  {
   "cell_type": "code",
   "execution_count": null,
   "metadata": {
    "collapsed": true
   },
   "outputs": [],
   "source": [
    "input_file = \"/home/ridlo/project/ALMA/alma-calibrator/src/CalSept2015.list\""
   ]
  },
  {
   "cell_type": "code",
   "execution_count": null,
   "metadata": {
    "collapsed": false
   },
   "outputs": [],
   "source": [
    "data = read_calibrator_list(input_file, fluxmin = 0.001) # change fluxmin"
   ]
  },
  {
   "cell_type": "code",
   "execution_count": null,
   "metadata": {
    "collapsed": false
   },
   "outputs": [],
   "source": [
    "data_np = np.array(data)\n",
    "ra, dec, flux = data_np[:,0], data_np[:,1], data_np[:,2]"
   ]
  },
  {
   "cell_type": "code",
   "execution_count": null,
   "metadata": {
    "collapsed": false,
    "scrolled": true
   },
   "outputs": [],
   "source": [
    "%matplotlib inline\n",
    "plt.plot(ra, dec, 'b.')"
   ]
  },
  {
   "cell_type": "markdown",
   "metadata": {},
   "source": [
    "Note: ALMA located at 23.0278° S, 67.7548° W"
   ]
  },
  {
   "cell_type": "markdown",
   "metadata": {},
   "source": [
    "### Using flux density as color"
   ]
  },
  {
   "cell_type": "code",
   "execution_count": null,
   "metadata": {
    "collapsed": false,
    "scrolled": true
   },
   "outputs": [],
   "source": [
    "import matplotlib.cm as cm"
   ]
  },
  {
   "cell_type": "code",
   "execution_count": null,
   "metadata": {
    "collapsed": false
   },
   "outputs": [],
   "source": [
    "flux_log = np.log(flux)\n",
    "max_flux = flux_log.max()\n",
    "cmap = plt.cm.rainbow\n",
    "color = flux_log/max_flux\n",
    "plt.scatter(ra, dec, c=color, s=6, lw=0, alpha=0.7, cmap=cmap)"
   ]
  },
  {
   "cell_type": "markdown",
   "metadata": {
    "collapsed": true
   },
   "source": [
    "### Map projection plot\n",
    "#### Equatorial coordinate"
   ]
  },
  {
   "cell_type": "code",
   "execution_count": null,
   "metadata": {
    "collapsed": false,
    "scrolled": true
   },
   "outputs": [],
   "source": [
    "from mpl_toolkits.basemap import Basemap"
   ]
  },
  {
   "cell_type": "code",
   "execution_count": null,
   "metadata": {
    "collapsed": false,
    "scrolled": true
   },
   "outputs": [],
   "source": [
    "m = Basemap(projection='moll', lon_0=0) # center at 'longitude' 0"
   ]
  },
  {
   "cell_type": "markdown",
   "metadata": {},
   "source": [
    "Shift range[-180, 180]"
   ]
  },
  {
   "cell_type": "code",
   "execution_count": null,
   "metadata": {
    "collapsed": true
   },
   "outputs": [],
   "source": [
    "def shift180pm(alpha):\n",
    "    return([x - 360 if x > 180 else x for x in alpha])"
   ]
  },
  {
   "cell_type": "code",
   "execution_count": null,
   "metadata": {
    "collapsed": false,
    "scrolled": true
   },
   "outputs": [],
   "source": [
    "ra_shift = shift180pm(ra) # shift ra [-180, 180]\n",
    "x, y = m(ra_shift, dec)\n",
    "m.scatter(x, y, c=color, s=6, lw=0, alpha=0.7, cmap=cmap)"
   ]
  },
  {
   "cell_type": "markdown",
   "metadata": {},
   "source": [
    "#### Galactic coordinate"
   ]
  },
  {
   "cell_type": "code",
   "execution_count": null,
   "metadata": {
    "collapsed": false,
    "scrolled": true
   },
   "outputs": [],
   "source": [
    "from astropy.coordinates import SkyCoord\n",
    "from astropy import units as u"
   ]
  },
  {
   "cell_type": "code",
   "execution_count": null,
   "metadata": {
    "collapsed": false,
    "scrolled": true
   },
   "outputs": [],
   "source": [
    "equ = SkyCoord(ra, dec, frame='icrs', unit='deg')\n",
    "gal = equ.galactic"
   ]
  },
  {
   "cell_type": "code",
   "execution_count": null,
   "metadata": {
    "collapsed": false,
    "scrolled": true
   },
   "outputs": [],
   "source": [
    "l_shift = shift180pm(gal.l.degree) # shift galactic longitude [-180, 180]\n",
    "x, y = m(l_shift, gal.b.degree)\n",
    "m.scatter(x, y, c=color, s=6, lw=0, alpha=0.7, cmap=cmap)"
   ]
  },
  {
   "cell_type": "code",
   "execution_count": null,
   "metadata": {
    "collapsed": true
   },
   "outputs": [],
   "source": []
  }
 ],
 "metadata": {
  "kernelspec": {
   "display_name": "Python 2",
   "language": "python",
   "name": "python2"
  },
  "language_info": {
   "codemirror_mode": {
    "name": "ipython",
    "version": 2
   },
   "file_extension": ".py",
   "mimetype": "text/x-python",
   "name": "python",
   "nbconvert_exporter": "python",
   "pygments_lexer": "ipython2",
   "version": "2.7.10"
  }
 },
 "nbformat": 4,
 "nbformat_minor": 0
}
